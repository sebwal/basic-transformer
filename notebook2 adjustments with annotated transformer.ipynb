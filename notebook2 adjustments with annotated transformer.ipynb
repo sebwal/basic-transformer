{
 "cells": [
  {
   "cell_type": "code",
   "execution_count": 1,
   "metadata": {},
   "outputs": [],
   "source": [
    "import numpy as np\n",
    "import torch\n",
    "import torch.nn as nn\n",
    "import torch.nn.functional as F\n",
    "import math, copy, time\n",
    "from torch.autograd import Variable\n",
    "import matplotlib.pyplot as plt\n",
    "import seaborn\n",
    "seaborn.set_context(context=\"talk\")\n",
    "%matplotlib inline"
   ]
  },
  {
   "cell_type": "code",
   "execution_count": 2,
   "metadata": {},
   "outputs": [],
   "source": [
    "import warnings; warnings.simplefilter('ignore')"
   ]
  },
  {
   "cell_type": "code",
   "execution_count": 3,
   "metadata": {},
   "outputs": [],
   "source": [
    "# # DELETE THIS EVENTUALLY\n",
    "# def clones(module, N):\n",
    "#     \"Produce N identical layers.\"\n",
    "#     return nn.ModuleList([copy.deepcopy(module) for _ in range(N)])"
   ]
  },
  {
   "cell_type": "markdown",
   "metadata": {},
   "source": [
    "# Attention"
   ]
  },
  {
   "cell_type": "code",
   "execution_count": 4,
   "metadata": {},
   "outputs": [],
   "source": [
    "class MultiHeadAttention(nn.Module):\n",
    "    def __init__(self, n_heads, masked=False):\n",
    "        super(MultiHeadAttention, self).__init__()\n",
    "\n",
    "        self.masked = masked\n",
    "        self.attentionHeads = nn.ModuleList([SingleHeadAttention(masked) for _ in range(n_heads)])\n",
    "        self.linear = nn.Linear(ATTENTION_CONST['mh_concat_width'], ATTENTION_CONST['mh_output_width'])\n",
    "        self.lastHeadKV = None\n",
    "\n",
    "    def forward(self, inputs, encoderKV=None):\n",
    "        x = []\n",
    "        for head in self.attentionHeads:\n",
    "            sh_attention, k, v = head(inputs, encoderKV=encoderKV) \n",
    "            x.append(sh_attention)\n",
    "        self.lastHeadKV = {'K': k,'V': v}\n",
    "        x = torch.cat(x, 1) # concatinate all single head attention outputs\n",
    "        x = self.linear(x) # matmul with weight matrix (linear layer) to get 10x64 shape\n",
    "        return x\n",
    "\n",
    "class SingleHeadAttention(nn.Module):\n",
    "    def __init__(self, masked):\n",
    "        super(SingleHeadAttention, self).__init__()\n",
    "        self.masked = masked\n",
    "        self.linear1 = nn.Linear(ATTENTION_CONST['sh_linear1_input'], ATTENTION_CONST['sh_linear1_output'])\n",
    "        self.linear2 = nn.Linear(ATTENTION_CONST['sh_linear2_input'], ATTENTION_CONST['sh_linear2_output'])\n",
    "        self.linear3 = nn.Linear(ATTENTION_CONST['sh_linear3_input'], ATTENTION_CONST['sh_linear3_output'])\n",
    "        self.scale = nn.Parameter(torch.FloatTensor([ATTENTION_CONST['sh_scale_factor']]))\n",
    "        self.softmax = nn.Softmax(dim=1)\n",
    "\n",
    "    def forward(self, inputs, encoderKV=None):        \n",
    "        q = self.linear1(inputs)\n",
    "        k = self.linear2(inputs) if encoderKV == None else encoderKV['K']\n",
    "        v = self.linear3(inputs) if encoderKV == None else encoderKV['V']\n",
    "        x = torch.matmul(q, k.permute(1, 0)) \n",
    "        x = x * self.scale\n",
    "        # if self.masked:\n",
    "        #     # TODO \"future positions\" have to be set to -inf. this is for the decoder to only allow self attention to consider earlier positions.\n",
    "        x = self.softmax(x) \n",
    "        x = torch.matmul(x, v)\n",
    "        return x if encoderKV != None else x, k, v\n"
   ]
  },
  {
   "cell_type": "code",
   "execution_count": 5,
   "metadata": {},
   "outputs": [],
   "source": [
    "class MultiHeadAttention(nn.Module):\n",
    "    def __init__(self, n_heads):\n",
    "        super(MultiHeadAttention, self).__init__()\n",
    "\n",
    "        self.linear = nn.Linear(64, 512)\n",
    "        self.wQ = nn.Linear(512, 64)\n",
    "        self.wK = nn.Linear(512, 64)\n",
    "        self.wV = nn.Linear(512, 64)\n",
    "\n",
    "    def forward(self, q, k, v):\n",
    "        q = self.wQ(q)\n",
    "        k = self.wK(k)\n",
    "        v = self.wV(v)\n",
    "\n",
    "        # split heads - I think they do this instead of a loop\n",
    "        x, attention_weights = self.applyHeads(q, k, v)\n",
    "        # transpose ?\n",
    "        # reshape ?\n",
    "        x = self.linear(x)\n",
    "        return x, attention_weights\n",
    "\n",
    "    def applyHeads(self, q, k, v, mask=None):\n",
    "        x = torch.matmul(q, k.permute(1, 0)) \n",
    "        # scale x\n",
    "        # add mask\n",
    "        attention_weights = nn.Softmax(dim=-1)(x)\n",
    "        x = torch.matmul(attention_weights, v)\n",
    "        return x, attention_weights\n",
    "\n"
   ]
  },
  {
   "cell_type": "code",
   "execution_count": 6,
   "metadata": {},
   "outputs": [],
   "source": [
    "def attention(query, key, value, mask=None, dropout=None):\n",
    "    \"Compute 'Scaled Dot Product Attention'\"\n",
    "    d_k = query.size(-1)\n",
    "    scores = torch.matmul(query, key.transpose(-2, -1)) \\\n",
    "             / math.sqrt(d_k)\n",
    "    if mask is not None:\n",
    "        scores = scores.masked_fill(mask == 0, -1e9)\n",
    "    p_attn = F.softmax(scores, dim = -1)\n",
    "    if dropout is not None:\n",
    "        p_attn = dropout(p_attn)\n",
    "    return torch.matmul(p_attn, value), p_attn"
   ]
  },
  {
   "cell_type": "code",
   "execution_count": 7,
   "metadata": {},
   "outputs": [],
   "source": [
    "class MultiHeadAttention(nn.Module):\n",
    "    def __init__(self, h, d_model=512, dropout=0.1):\n",
    "        \"Take in model size and number of heads.\"\n",
    "        super(MultiHeadAttention, self).__init__()\n",
    "        assert d_model % h == 0\n",
    "        # We assume d_v always equals d_k\n",
    "        self.d_k = d_model // h\n",
    "        self.h = h\n",
    "        self.linears = nn.ModuleList([copy.deepcopy(nn.Linear(d_model, d_model)) for _ in range(4)])\n",
    "        self.attn = None\n",
    "        self.dropout = nn.Dropout(p=dropout)\n",
    "        \n",
    "    def forward(self, query, key, value, mask=None):\n",
    "        \"Implements Figure 2\"\n",
    "        if mask is not None:\n",
    "            # Same mask applied to all h heads.\n",
    "            mask = mask.unsqueeze(1)\n",
    "        nbatches = query.size(0)\n",
    "        \n",
    "        # 1) Do all the linear projections in batch from d_model => h x d_k \n",
    "        query, key, value = \\\n",
    "            [l(x).view(nbatches, -1, self.h, self.d_k).transpose(1, 2)\n",
    "             for l, x in zip(self.linears, (query, key, value))]\n",
    "        \n",
    "        # 2) Apply attention on all the projected vectors in batch. \n",
    "        x, self.attn = attention(query, key, value, mask=mask, \n",
    "                                 dropout=self.dropout)\n",
    "        \n",
    "        # 3) \"Concat\" using a view and apply a final linear. \n",
    "        x = x.transpose(1, 2).contiguous() \\\n",
    "             .view(nbatches, -1, self.h * self.d_k)\n",
    "        return self.linears[-1](x)"
   ]
  },
  {
   "cell_type": "markdown",
   "metadata": {},
   "source": [
    "# Encoder"
   ]
  },
  {
   "cell_type": "code",
   "execution_count": 8,
   "metadata": {},
   "outputs": [],
   "source": [
    "class Encoder(nn.Module):\n",
    "    def __init__(self, n_layers, n_heads):\n",
    "        super(Encoder, self).__init__()\n",
    "        \n",
    "        self.encoderLayers = nn.ModuleList([EncoderLayer(n_heads) for _ in range(n_layers)])\n",
    "        self.norm = nn.LayerNorm(512)\n",
    "\n",
    "    def forward(self, inputs, mask):\n",
    "        x = inputs\n",
    "\n",
    "        for layer in self.encoderLayers:\n",
    "            x = layer(x, mask)\n",
    "        x = self.norm(x)\n",
    "        return x\n",
    "    \n",
    "class EncoderLayer(nn.Module):\n",
    "    def __init__(self, n_heads, dropout=0.1):\n",
    "        super(EncoderLayer, self).__init__()\n",
    "\n",
    "        self.mhattention = MultiHeadAttention(n_heads)\n",
    "        self.norm1 = nn.LayerNorm(512)\n",
    "        self.norm2 = nn.LayerNorm(512)\n",
    "        self.dropout1 = nn.Dropout(dropout)\n",
    "        self.dropout2 = nn.Dropout(dropout)\n",
    "        self.feedforward = PositionwiseFeedForward(512, 2048)\n",
    "\n",
    "    def forward(self, inputs, mask):\n",
    "        x = inputs \n",
    "        z = x\n",
    "        x = self.mhattention(x, x, x, mask)\n",
    "        x = self.dropout1(x)\n",
    "        x = z + x\n",
    "        x = self.norm1(x)\n",
    "        z = x\n",
    "        x = self.feedforward(x)\n",
    "        x = self.dropout2(x)\n",
    "        x = z + x\n",
    "        x = self.norm2(x) \n",
    "        return x"
   ]
  },
  {
   "cell_type": "markdown",
   "metadata": {},
   "source": [
    "# Decoder"
   ]
  },
  {
   "cell_type": "code",
   "execution_count": 9,
   "metadata": {},
   "outputs": [],
   "source": [
    "class Decoder(nn.Module):\n",
    "    def __init__(self, n_layers, n_heads):\n",
    "        super(Decoder, self).__init__()\n",
    "        \n",
    "        self.decoderLayers = nn.ModuleList([DecoderLayer(n_heads) for _ in range(n_layers)])\n",
    "        self.norm = nn.LayerNorm(512)\n",
    "\n",
    "    def forward(self, inputs, encoderOut, src_mask, tgt_mask):\n",
    "        x = inputs\n",
    "\n",
    "        for layer in self.decoderLayers:\n",
    "            x = layer(x, encoderOut, src_mask, tgt_mask) \n",
    "\n",
    "        return x\n",
    "\n",
    "class DecoderLayer(nn.Module):\n",
    "    def __init__(self, n_heads, dropout=0.1):\n",
    "        super(DecoderLayer, self).__init__()\n",
    "\n",
    "        self.mhattention1 = MultiHeadAttention(n_heads)\n",
    "        self.mhattention2 = MultiHeadAttention(n_heads)\n",
    "        self.norm1 = nn.LayerNorm(512)\n",
    "        self.norm2 = nn.LayerNorm(512)\n",
    "        self.norm3 = nn.LayerNorm(512)\n",
    "        self.dropout1 = nn.Dropout(dropout)\n",
    "        self.dropout2 = nn.Dropout(dropout)\n",
    "        self.dropout3 = nn.Dropout(dropout)\n",
    "        self.feedforward = PositionwiseFeedForward(512, 2048)\n",
    "\n",
    "    def forward(self, inputs, encoderOut, src_mask, tgt_mask):\n",
    "        x = inputs\n",
    "        z = x\n",
    "        x = self.mhattention1(x, x, x, tgt_mask)\n",
    "        x = self.dropout1(x)\n",
    "        x = z + x        \n",
    "        x = self.norm1(x)\n",
    "        z = x\n",
    "        x = self.mhattention2(x, encoderOut, encoderOut, src_mask) \n",
    "        x = self.dropout2(x)\n",
    "        x = z + x\n",
    "        x = self.norm2(x)\n",
    "        z = x\n",
    "        x = self.feedforward(x)\n",
    "        x = self.dropout3(x)\n",
    "        x = z + x\n",
    "        x = self.norm3(x)\n",
    "        return x"
   ]
  },
  {
   "cell_type": "markdown",
   "metadata": {},
   "source": [
    "# Position-wise feed forward"
   ]
  },
  {
   "cell_type": "code",
   "execution_count": 10,
   "metadata": {},
   "outputs": [],
   "source": [
    "class PositionwiseFeedForward(nn.Module):\n",
    "    def __init__(self, dim_model, dim_ff, dropout=0.1):\n",
    "        super(PositionwiseFeedForward, self).__init__()\n",
    "        self.linear1 = nn.Linear(dim_model, dim_ff)\n",
    "        self.dropout = nn.Dropout(dropout)\n",
    "        self.linear2 = nn.Linear(dim_ff, dim_model)\n",
    "\n",
    "    def forward(self, inputs):\n",
    "        x = inputs\n",
    "        x = self.linear1(x)\n",
    "        x = nn.functional.relu(x) \n",
    "        x = self.dropout(x) \n",
    "        x = self.linear2(x) \n",
    "        return x\n"
   ]
  },
  {
   "cell_type": "markdown",
   "metadata": {},
   "source": [
    "# Embeddings"
   ]
  },
  {
   "cell_type": "code",
   "execution_count": 11,
   "metadata": {},
   "outputs": [],
   "source": [
    "class Embeddings(nn.Module):\n",
    "    def __init__(self, d_model, vocab):\n",
    "        super(Embeddings, self).__init__()\n",
    "        self.lut = nn.Embedding(vocab, d_model)\n",
    "        self.d_model = d_model\n",
    "\n",
    "    def forward(self, x):\n",
    "        return self.lut(x) * math.sqrt(self.d_model)"
   ]
  },
  {
   "cell_type": "markdown",
   "metadata": {},
   "source": [
    "# Positional Encoding"
   ]
  },
  {
   "cell_type": "code",
   "execution_count": 12,
   "metadata": {},
   "outputs": [],
   "source": [
    "class PositionalEncoding(nn.Module):\n",
    "    \"Implement the PE function.\"\n",
    "    def __init__(self, d_model, dropout, max_len=5000):\n",
    "        super(PositionalEncoding, self).__init__()\n",
    "        self.dropout = nn.Dropout(p=dropout)\n",
    "        \n",
    "        # Compute the positional encodings once in log space.\n",
    "        pe = torch.zeros(max_len, d_model)\n",
    "        position = torch.arange(0.0, max_len).unsqueeze(1)\n",
    "        div_term = torch.exp(torch.arange(0.0, d_model, 2) *\n",
    "                             -(math.log(10000.0) / d_model))\n",
    "        pe[:, 0::2] = torch.sin(position * div_term)\n",
    "        pe[:, 1::2] = torch.cos(position * div_term)\n",
    "        pe = pe.unsqueeze(0)\n",
    "        self.register_buffer('pe', pe)\n",
    "        \n",
    "    def forward(self, x):\n",
    "        x = x + Variable(self.pe[:, :x.size(1)], \n",
    "                         requires_grad=False)\n",
    "        return self.dropout(x)"
   ]
  },
  {
   "cell_type": "markdown",
   "metadata": {},
   "source": [
    "# Transformer (Outer layer)"
   ]
  },
  {
   "cell_type": "code",
   "execution_count": 13,
   "metadata": {},
   "outputs": [],
   "source": [
    "class Transformer(nn.Module):\n",
    "    def __init__(self, src_vocab, tgt_vocab, n_layers=6, n_heads=8):\n",
    "        super(Transformer, self).__init__()\n",
    "\n",
    "        self.encoder = Encoder(n_layers, n_heads)\n",
    "        self.decoder = Decoder(n_layers, n_heads)\n",
    "        self.src_embed = nn.Sequential(Embeddings(512, src_vocab), PositionalEncoding(512, 0.1))\n",
    "        self.tgt_embed = nn.Sequential(Embeddings(512, tgt_vocab), PositionalEncoding(512, 0.1))\n",
    "        self.proj = nn.Linear(512, tgt_vocab)\n",
    "        \n",
    "        for p in self.parameters():\n",
    "            if p.dim() > 1:\n",
    "                nn.init.xavier_uniform(p)\n",
    "\n",
    "    def forward(self, src, tgt, src_mask, tgt_mask):\n",
    "        x = self.encoder(self.src_embed(src), src_mask)\n",
    "        x = self.decoder(self.tgt_embed(tgt), x, src_mask, tgt_mask)\n",
    "        x = self.finalize_output(x)\n",
    "        return x\n",
    "    \n",
    "    def greedy_decode(self, src, src_mask, max_len, start_symbol):\n",
    "        encoderOut = self.encoder(self.src_embed(src), src_mask)\n",
    "        ys = torch.ones(1, 1).fill_(start_symbol).type_as(src.data)\n",
    "        for i in range(max_len-1):\n",
    "            tgt = Variable(ys)\n",
    "            tgt_mask = Variable(subsequent_mask(ys.size(1)).type_as(src.data))\n",
    "            out = self.decoder(self.tgt_embed(tgt), encoderOut, src_mask, tgt_mask) \n",
    "            prob = self.finalize_output(out[:, -1])\n",
    "            _, next_word = torch.max(prob, dim = 1)\n",
    "            next_word = next_word.data[0]\n",
    "            ys = torch.cat([ys, \n",
    "                            torch.ones(1, 1).type_as(src.data).fill_(next_word)], dim=1)\n",
    "        return ys    \n",
    "    \n",
    "    def finalize_output(self, inputs): \n",
    "        x = F.log_softmax(self.proj(inputs), dim=-1)\n",
    "        return x\n",
    "    "
   ]
  },
  {
   "cell_type": "code",
   "execution_count": 14,
   "metadata": {
    "scrolled": true
   },
   "outputs": [],
   "source": [
    "transformer = Transformer(11, 11)"
   ]
  },
  {
   "cell_type": "markdown",
   "metadata": {},
   "source": [
    "# Batch + Mask"
   ]
  },
  {
   "cell_type": "code",
   "execution_count": 15,
   "metadata": {},
   "outputs": [],
   "source": [
    "def subsequent_mask(size):\n",
    "    \"Mask out subsequent positions.\"\n",
    "    attn_shape = (1, size, size)\n",
    "    subsequent_mask = np.triu(np.ones(attn_shape), k=1).astype('uint8')\n",
    "    return torch.from_numpy(subsequent_mask) == 0"
   ]
  },
  {
   "cell_type": "code",
   "execution_count": 16,
   "metadata": {},
   "outputs": [],
   "source": [
    "class Batch:\n",
    "    \"Object for holding a batch of data with mask during training.\"\n",
    "    def __init__(self, src, trg=None, pad=0):\n",
    "        self.src = src\n",
    "        self.src_mask = (src != pad).unsqueeze(-2)\n",
    "        if trg is not None:\n",
    "            self.trg = trg[:, :-1]\n",
    "            self.trg_y = trg[:, 1:]\n",
    "            self.trg_mask = \\\n",
    "                self.make_std_mask(self.trg, pad)\n",
    "            self.ntokens = (self.trg_y != pad).data.sum()\n",
    "    \n",
    "    @staticmethod\n",
    "    def make_std_mask(tgt, pad):\n",
    "        \"Create a mask to hide padding and future words.\"\n",
    "        tgt_mask = (tgt != pad).unsqueeze(-2)\n",
    "        tgt_mask = tgt_mask & Variable(\n",
    "            subsequent_mask(tgt.size(-1)).type_as(tgt_mask.data))\n",
    "        return tgt_mask"
   ]
  },
  {
   "cell_type": "markdown",
   "metadata": {},
   "source": [
    "# Optimizer"
   ]
  },
  {
   "cell_type": "code",
   "execution_count": 17,
   "metadata": {},
   "outputs": [],
   "source": [
    "class NoamOpt:\n",
    "    \"Optim wrapper that implements rate.\"\n",
    "    def __init__(self, model_size, factor, warmup, optimizer):\n",
    "        self.optimizer = optimizer\n",
    "        self._step = 0\n",
    "        self.warmup = warmup\n",
    "        self.factor = factor\n",
    "        self.model_size = model_size\n",
    "        self._rate = 0\n",
    "        \n",
    "    def step(self):\n",
    "        \"Update parameters and rate\"\n",
    "        self._step += 1\n",
    "        rate = self.rate()\n",
    "        for p in self.optimizer.param_groups:\n",
    "            p['lr'] = rate\n",
    "        self._rate = rate\n",
    "        self.optimizer.step()\n",
    "        \n",
    "    def rate(self, step = None):\n",
    "        \"Implement `lrate` above\"\n",
    "        if step is None:\n",
    "            step = self._step\n",
    "        return self.factor * \\\n",
    "            (self.model_size ** (-0.5) *\n",
    "            min(step ** (-0.5), step * self.warmup ** (-1.5)))\n",
    "        \n",
    "def get_std_opt(model):\n",
    "    return NoamOpt(model.src_embed[0].d_model, 2, 4000,\n",
    "            torch.optim.Adam(model.parameters(), lr=0, betas=(0.9, 0.98), eps=1e-9))"
   ]
  },
  {
   "cell_type": "markdown",
   "metadata": {},
   "source": [
    "# Label Smoothing"
   ]
  },
  {
   "cell_type": "code",
   "execution_count": 18,
   "metadata": {},
   "outputs": [],
   "source": [
    "class LabelSmoothing(nn.Module):\n",
    "    \"Implement label smoothing.\"\n",
    "    def __init__(self, size, padding_idx, smoothing=0.0):\n",
    "        super(LabelSmoothing, self).__init__()\n",
    "        self.criterion = nn.KLDivLoss(size_average=False)\n",
    "        self.padding_idx = padding_idx\n",
    "        self.confidence = 1.0 - smoothing\n",
    "        self.smoothing = smoothing\n",
    "        self.size = size\n",
    "        self.true_dist = None\n",
    "        \n",
    "    def forward(self, x, target):\n",
    "        assert x.size(1) == self.size\n",
    "        true_dist = x.data.clone()\n",
    "        true_dist.fill_(self.smoothing / (self.size - 2))\n",
    "        true_dist.scatter_(1, target.data.unsqueeze(1), self.confidence)\n",
    "        true_dist[:, self.padding_idx] = 0\n",
    "        mask = torch.nonzero(target.data == self.padding_idx)\n",
    "        if mask.dim() > 1: # Changed > 0 to > 1 because it throws errors otherwise            \n",
    "            true_dist.index_fill_(0, mask.squeeze(), 0.0)\n",
    "        self.true_dist = true_dist\n",
    "        return self.criterion(x, Variable(true_dist, requires_grad=False))"
   ]
  },
  {
   "cell_type": "markdown",
   "metadata": {},
   "source": [
    "# Copy Paste Task"
   ]
  },
  {
   "cell_type": "markdown",
   "metadata": {},
   "source": [
    "## Loss Definition"
   ]
  },
  {
   "cell_type": "code",
   "execution_count": 19,
   "metadata": {},
   "outputs": [],
   "source": [
    "class SimpleLossCompute:\n",
    "    \"A simple loss compute and train function.\"\n",
    "    def __init__(self, criterion, opt=None):\n",
    "        self.criterion = criterion\n",
    "        self.opt = opt\n",
    "        \n",
    "    def __call__(self, x, y, norm):\n",
    "        norm = norm.float() # because it throws errors if it's not casted to float\n",
    "        loss = self.criterion(x.contiguous().view(-1, x.size(-1)), \n",
    "                              y.contiguous().view(-1)) / norm\n",
    "        loss.backward()\n",
    "        if self.opt is not None:\n",
    "            self.opt.step()\n",
    "            self.opt.optimizer.zero_grad()\n",
    "        ret = loss.data[0] * norm\n",
    "        return ret"
   ]
  },
  {
   "cell_type": "markdown",
   "metadata": {},
   "source": [
    "## Data Generation"
   ]
  },
  {
   "cell_type": "code",
   "execution_count": 34,
   "metadata": {},
   "outputs": [],
   "source": [
    "def data_gen(V, batch, nbatches):\n",
    "    \"Generate random data for a src-tgt copy task.\"\n",
    "    for i in range(nbatches):\n",
    "        data = torch.from_numpy(np.random.randint(1, V, size=(batch, 10))).long()\n",
    "        print('1', data)\n",
    "        data[:, 0] = 1\n",
    "        print('2', data)\n",
    "        src = Variable(data, requires_grad=False)\n",
    "        tgt = Variable(data, requires_grad=False)\n",
    "        yield Batch(src, tgt, 0)        "
   ]
  },
  {
   "cell_type": "markdown",
   "metadata": {},
   "source": [
    "## Training"
   ]
  },
  {
   "cell_type": "code",
   "execution_count": 35,
   "metadata": {
    "scrolled": true
   },
   "outputs": [
    {
     "name": "stdout",
     "output_type": "stream",
     "text": [
      "epoch 1\n",
      "tensor(1.3218)\n",
      "epoch 2\n",
      "tensor(0.0183)\n",
      "epoch 3\n",
      "tensor(0.0006)\n",
      "epoch 4\n",
      "tensor(0.0001)\n",
      "epoch 5\n",
      "tensor(0.0001)\n",
      "epoch 6\n",
      "tensor(0.0000)\n",
      "epoch 7\n",
      "tensor(0.0000)\n",
      "epoch 8\n",
      "tensor(8.9222e-06)\n",
      "epoch 9\n",
      "tensor(5.5313e-06)\n",
      "epoch 10\n",
      "tensor(3.4544e-06)\n",
      "epoch 11\n",
      "tensor(2.5855e-06)\n",
      "epoch 12\n",
      "tensor(1.7696e-06)\n",
      "epoch 13\n",
      "tensor(1.9974e-06)\n",
      "epoch 14\n",
      "tensor(1.3669e-06)\n",
      "epoch 15\n",
      "tensor(7.5234e-07)\n",
      "epoch 16\n",
      "tensor(5.8280e-07)\n",
      "epoch 17\n",
      "tensor(7.4704e-07)\n",
      "epoch 18\n",
      "tensor(4.4505e-07)\n",
      "epoch 19\n",
      "tensor(4.3975e-07)\n",
      "epoch 20\n",
      "tensor(4.3445e-07)\n",
      "epoch 21\n",
      "tensor(3.6028e-07)\n",
      "epoch 22\n",
      "tensor(2.2252e-07)\n",
      "epoch 23\n",
      "tensor(1.4835e-07)\n",
      "epoch 24\n",
      "tensor(1.5895e-07)\n",
      "epoch 25\n",
      "tensor(1.9073e-07)\n",
      "epoch 26\n",
      "tensor(2.1193e-07)\n",
      "epoch 27\n",
      "tensor(2.1723e-07)\n",
      "epoch 28\n",
      "tensor(7.9473e-08)\n",
      "epoch 29\n",
      "tensor(3.0200e-07)\n",
      "epoch 30\n",
      "tensor(4.5035e-07)\n"
     ]
    }
   ],
   "source": [
    "# Train the simple copy task.\n",
    "V = 11\n",
    "criterion = LabelSmoothing(size=V, padding_idx=0, smoothing=0.0)\n",
    "transformer = Transformer(V, V, 2)\n",
    "model_opt = NoamOpt(transformer.src_embed[0].d_model, 1, 400,\n",
    "        torch.optim.Adam(transformer.parameters(), lr=0, betas=(0.9, 0.98), eps=1e-9))\n",
    "\n",
    "losses = []\n",
    "for epoch in range(30):\n",
    "    transformer.train()\n",
    "\n",
    "    data_iter = data_gen(V, 30, 20)\n",
    "    loss_compute = SimpleLossCompute(criterion, model_opt)\n",
    "    total_tokens = 0\n",
    "    total_loss = 0\n",
    "    for i, batch in enumerate(data_iter):\n",
    "        out = transformer.forward(batch.src, batch.trg, \n",
    "                            batch.src_mask, batch.trg_mask)\n",
    "        loss = loss_compute(out, batch.trg_y, batch.ntokens)\n",
    "        total_loss += loss\n",
    "        total_tokens += batch.ntokens\n",
    "    loss = total_loss / total_tokens.float()\n",
    "    losses.append(loss)\n",
    "    transformer.eval()\n",
    "\n",
    "    print('epoch ' + str(epoch + 1))\n",
    "    print(loss)\n",
    "    "
   ]
  },
  {
   "cell_type": "code",
   "execution_count": 36,
   "metadata": {
    "scrolled": true
   },
   "outputs": [
    {
     "data": {
      "image/png": "[encoded data removed]",
      "text/plain": [
       "<Figure size 432x288 with 1 Axes>"
      ]
     },
     "metadata": {
      "needs_background": "light"
     },
     "output_type": "display_data"
    },
    {
     "name": "stdout",
     "output_type": "stream",
     "text": [
      "Best epoch: 28\n"
     ]
    }
   ],
   "source": [
    "plt.plot(losses)\n",
    "plt.show()\n",
    "print('Best epoch: ' + str(losses.index(min(losses)) + 1))"
   ]
  },
  {
   "cell_type": "markdown",
   "metadata": {},
   "source": [
    "## Evaluation"
   ]
  },
  {
   "cell_type": "code",
   "execution_count": 37,
   "metadata": {},
   "outputs": [
    {
     "name": "stdout",
     "output_type": "stream",
     "text": [
      "tensor([[ 1,  2,  3,  4,  5,  6,  7,  8,  9, 10]])\n",
      "tensor([[ 1,  2,  3,  4,  5,  6,  7,  8,  9, 10]])\n",
      "tensor([[ 1,  2,  3,  4,  5,  6,  7,  8,  9, 10]])\n",
      "tensor([[ 1,  2,  3,  4,  5,  6,  7,  8,  9, 10]])\n",
      "tensor([[ 1,  2,  3,  4,  5,  6,  7,  8,  9, 10]])\n"
     ]
    }
   ],
   "source": [
    "transformer.eval()\n",
    "src1 = Variable(torch.LongTensor([[1,2,3,4,5,6,7,8,9,10]]))\n",
    "src2 = Variable(torch.LongTensor([[1,1,1,3,3,1,1,1,4,1]]))\n",
    "src3 = Variable(torch.LongTensor([[1,2,3,4,5,6,5,4,3,2]]))\n",
    "src4 = Variable(torch.LongTensor([[1,2,3,2,1,2,3,2,1,2]]))\n",
    "src5 = Variable(torch.LongTensor([[1,10,1,10,1,10,1,10,1,10]]))\n",
    "src_mask = Variable(torch.ones(1, 1, 10) )\n",
    "print(transformer.greedy_decode(src1, src_mask, max_len=10, start_symbol=1))\n",
    "print(transformer.greedy_decode(src2, src_mask, max_len=10, start_symbol=1))\n",
    "print(transformer.greedy_decode(src3, src_mask, max_len=10, start_symbol=1))\n",
    "print(transformer.greedy_decode(src4, src_mask, max_len=10, start_symbol=1))\n",
    "print(transformer.greedy_decode(src5, src_mask, max_len=10, start_symbol=1))"
   ]
  },
  {
   "cell_type": "code",
   "execution_count": null,
   "metadata": {},
   "outputs": [],
   "source": []
  },
  {
   "cell_type": "code",
   "execution_count": null,
   "metadata": {},
   "outputs": [],
   "source": []
  }
 ],
 "metadata": {
  "kernelspec": {
   "display_name": "Python 3",
   "language": "python",
   "name": "python3"
  },
  "language_info": {
   "codemirror_mode": {
    "name": "ipython",
    "version": 3
   },
   "file_extension": ".py",
   "mimetype": "text/x-python",
   "name": "python",
   "nbconvert_exporter": "python",
   "pygments_lexer": "ipython3",
   "version": "3.6.4"
  }
 },
 "nbformat": 4,
 "nbformat_minor": 2
}
